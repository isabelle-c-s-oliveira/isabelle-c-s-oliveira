{
  "nbformat": 4,
  "nbformat_minor": 0,
  "metadata": {
    "colab": {
      "name": "NeuroM (Morphology Usage) by Isabelle Oliveira.ipynb",
      "provenance": [],
      "collapsed_sections": [],
      "authorship_tag": "ABX9TyPbUZEufp42Dk8VRAhFBjdx",
      "include_colab_link": true
    },
    "kernelspec": {
      "name": "python3",
      "display_name": "Python 3"
    },
    "language_info": {
      "name": "python"
    }
  },
  "cells": [
    {
      "cell_type": "markdown",
      "metadata": {
        "id": "view-in-github",
        "colab_type": "text"
      },
      "source": [
        "<a href=\"https://colab.research.google.com/github/isabelle-c-s-oliveira/isabelle-c-s-oliveira/blob/main/NeuroM_(Morphology_Usage)_by_Isabelle_Oliveira.ipynb\" target=\"_parent\"><img src=\"https://colab.research.google.com/assets/colab-badge.svg\" alt=\"Open In Colab\"/></a>"
      ]
    },
    {
      "cell_type": "code",
      "execution_count": null,
      "metadata": {
        "id": "TEGH9SymaJ3C"
      },
      "outputs": [],
      "source": [
        "from morphio import Morphology\n",
        "\n",
        "m = Morphology(\"sample.asc\")\n",
        "roots = m.root_sections\n",
        "first_root = roots[0]\n",
        "\n",
        "# iterate on sections starting at first_root\n",
        "for section in first_root.iter():\n",
        "    print(\"Section type: {}\".format(section.type))\n",
        "    print(\"Section id: {}\".format(section.id))\n",
        "    if not section.is_root:\n",
        "       print(\"Parent section id: {}\".format(section.parent.id))\n",
        "    print(\"Number of child sections: {}\".format(len(section.children)))\n",
        "    print(\"X - Y - Z - Diameter\")\n",
        "\n",
        "    for point, diameter in zip(section.points, section.diameters):\n",
        "        print('{} - {}'.format(point, diameter))"
      ]
    },
    {
      "cell_type": "markdown",
      "source": [
        "NeuroM requires Python version 3.6 or higher, and uses MorphIO library to read morphologies. It is recommended that you use pip to install NeuroM into a virtualenv. For details, see Virtualenv setup.\n",
        "Morphology usage by Blue Brain can be split into two APIs: mutable and immutable. Mutable is for creating or editing morphologies. Immutable is for read-only operations. Both are represented in C++ and Python."
      ],
      "metadata": {
        "id": "H0S_ma85bkX3"
      }
    },
    {
      "cell_type": "markdown",
      "source": [
        "\n"
      ],
      "metadata": {
        "id": "rl0h1ndbba6w"
      }
    },
    {
      "cell_type": "code",
      "source": [
        "from morphio import PointLevel, SectionType\n",
        "from morphio.mut import Morphology\n",
        "\n",
        "morpho = Morphology()\n",
        "morpho.soma.points = [[0, 0, 0], [1, 1, 1]]\n",
        "morpho.soma.diameters = [1, 1]\n",
        "\n",
        "section = morpho.append_root_section(\n",
        "    PointLevel(\n",
        "        [[2, 2, 2], [3, 3, 3]],  # x, y, z coordinates of each point\n",
        "        [4, 4]),  # diameter of each point\n",
        "    SectionType.axon)  # (optional) perimeter of each point\n",
        "\n",
        "child_section0 = section.append_section(\n",
        "    PointLevel(\n",
        "        [[3, 3, 3], [4, 4, 4]],\n",
        "        [4, 4])) # section type is omitted -> parent section type will be used\n",
        "\n",
        "child_section1 = section.append_section(\n",
        "    PointLevel(\n",
        "        [[3, 3, 3], [5, 5, 5]],\n",
        "        [5, 5])) # section type is omitted -> parent section type will be used\n",
        "\n",
        "morpho.write(\"outfile.asc\")\n",
        "morpho.write(\"outfile.swc\")\n",
        "morpho.write(\"outfile.h5\")\n",
        "\n"
      ],
      "metadata": {
        "id": "cDQ97H32cIKk"
      },
      "execution_count": null,
      "outputs": []
    }
  ]
}