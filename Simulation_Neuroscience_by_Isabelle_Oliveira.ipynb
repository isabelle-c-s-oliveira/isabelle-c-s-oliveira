{
  "nbformat": 4,
  "nbformat_minor": 0,
  "metadata": {
    "colab": {
      "name": "Simulation Neuroscience by Isabelle Oliveira.ipynb",
      "provenance": [],
      "authorship_tag": "ABX9TyNDeLkCk4NwitFjx0UlSsb9",
      "include_colab_link": true
    },
    "kernelspec": {
      "name": "python3",
      "display_name": "Python 3"
    },
    "language_info": {
      "name": "python"
    }
  },
  "cells": [
    {
      "cell_type": "markdown",
      "metadata": {
        "id": "view-in-github",
        "colab_type": "text"
      },
      "source": [
        "<a href=\"https://colab.research.google.com/github/isabelle-c-s-oliveira/isabelle-c-s-oliveira/blob/main/Simulation_Neuroscience_by_Isabelle_Oliveira.ipynb\" target=\"_parent\"><img src=\"https://colab.research.google.com/assets/colab-badge.svg\" alt=\"Open In Colab\"/></a>"
      ]
    },
    {
      "cell_type": "code",
      "source": [
        "\n",
        "import matplotlib.pyplot as plt\n",
        "import matplotlib.patches as patches\n",
        "%matplotlib inline\n",
        "\n",
        "def plot_stimulus_table(stim_table, title):\n",
        "    fstart = stim_table.start.min()\n",
        "    fend = stim_table.end.max()\n",
        "    \n",
        "    fig = plt.figure(figsize=(15,1))\n",
        "    ax = fig.gca()\n",
        "    for i, trial in stim_table.iterrows():    \n",
        "        x1 = float(trial.start - fstart) / (fend - fstart)\n",
        "        x2 = float(trial.end - fstart) / (fend - fstart)            \n",
        "        ax.add_patch(patches.Rectangle((x1, 0.0), x2 - x1, 1.0, color='r'))\n",
        "    ax.set_xticks((0,1))\n",
        "    ax.set_xticklabels((fstart, fend))\n",
        "    ax.set_yticks(())\n",
        "    ax.set_title(title)\n",
        "    ax.set_xlabel(\"frames\")\n",
        "\n",
        "    "
      ],
      "metadata": {
        "id": "AqNzGivInzbR"
      },
      "execution_count": null,
      "outputs": []
    },
    {
      "cell_type": "code",
      "source": [
        "from allensdk.core.brain_observatory_cache import BrainObservatoryCache\n",
        "boc = BrainObservatoryCache()\n",
        "data_set = boc.get_ophys_experiment_data(501940850)\n",
        "\n",
        "# this is a pandas DataFrame. find trials with a given stimulus condition.\n",
        "temporal_frequency = 4\n",
        "orientation = 225\n",
        "stim_table = data_set.get_stimulus_table('drifting_gratings')\n",
        "stim_table = stim_table[(stim_table.temporal_frequency == temporal_frequency) & (stim_table.orientation == orientation)]\n",
        "\n",
        "# plot the trials\n",
        "plot_stimulus_table(stim_table, \"TF %d ORI %d\" % (temporal_frequency, orientation))\n",
        "WARNING:allensdk.api.queries.brain_observatory_api:Downloading ophys_experiment 501940850 NWB. This can take some time.\n",
        "\n",
        "\n"
      ],
      "metadata": {
        "id": "YZZwTYLaoXLF"
      },
      "execution_count": null,
      "outputs": []
    },
    {
      "cell_type": "code",
      "source": [
        "data_set = boc.get_ophys_experiment_data(501498760)\n",
        "\n",
        "# this is a pandas DataFrame. find trials with a given stimulus condition.\n",
        "spatial_frequency = 0.02\n",
        "orientation = 30\n",
        "phase = 0.0\n",
        "stim_table = data_set.get_stimulus_table('static_gratings')\n",
        "stim_table = stim_table[(stim_table.spatial_frequency == spatial_frequency) & \\\n",
        "                        (stim_table.orientation == orientation) & \\\n",
        "                        (stim_table.phase == phase) ]\n",
        "\n",
        "# plot the trials\n",
        "plot_stimulus_table(stim_table, \"SF %.02f ORI %d Phase %.02f\" % (spatial_frequency, orientation, phase))\n",
        "WARNING:allensdk.api.queries.brain_observatory_api:Downloading ophys_experiment 501498760 NWB. This can take some time.\n",
        "\n"
      ],
      "metadata": {
        "id": "DG_HEkyIojiz"
      },
      "execution_count": null,
      "outputs": []
    },
    {
      "cell_type": "code",
      "source": [
        "data_set = boc.get_ophys_experiment_data(501498760)\n",
        "\n",
        "scene_nums = [4, 83]\n",
        "\n",
        "# read in the array of images\n",
        "scenes = data_set.get_stimulus_template('natural_scenes')\n",
        "\n",
        "# display a couple of the scenes\n",
        "fig, axes = plt.subplots(1,len(scene_nums))\n",
        "for ax,scene in zip(axes, scene_nums):\n",
        "    ax.imshow(scenes[scene,:,:], cmap='gray')\n",
        "    ax.set_axis_off()\n",
        "    ax.set_title('scene %d' % scene)\n",
        "\n",
        "    "
      ],
      "metadata": {
        "id": "DrsDhmozopgI"
      },
      "execution_count": null,
      "outputs": []
    },
    {
      "cell_type": "code",
      "source": [
        "data_set = boc.get_ophys_experiment_data(501498760)\n",
        "\n",
        "# the natural scenes stimulus table describes when each scene is on the screen\n",
        "stim_table = data_set.get_stimulus_table('natural_scenes')\n",
        "\n",
        "# build up a mask of trials for which one of a list of scenes is visible\n",
        "trial_mask = stim_table.frame == -2\n",
        "for scene in scene_nums:\n",
        "    trial_mask |= (stim_table.frame == scene)\n",
        "stim_table = stim_table[trial_mask]\n",
        "\n",
        "# plot the trials\n",
        "plot_stimulus_table(stim_table, \"scenes %s \" % scene_nums)\n",
        "\n",
        "\n"
      ],
      "metadata": {
        "id": "5XJoUlebo575"
      },
      "execution_count": null,
      "outputs": []
    },
    {
      "cell_type": "code",
      "source": [
        "data_set = boc.get_ophys_experiment_data(501498760)\n",
        "\n",
        "# read in the natural movie one clip\n",
        "movie = data_set.get_stimulus_template('natural_movie_one')\n",
        "\n",
        "# display a random frame for reference\n",
        "frame = 200\n",
        "plt.imshow(movie[frame,:,:], cmap='gray')\n",
        "plt.axis('off')\n",
        "plt.title('frame %d' % frame)\n",
        "plt.show()\n",
        "\n"
      ],
      "metadata": {
        "id": "H0nbPbZApK9_"
      },
      "execution_count": null,
      "outputs": []
    },
    {
      "cell_type": "code",
      "source": [
        "data_set = boc.get_ophys_experiment_data(501498760)\n",
        "\n",
        "# read in the stimulus table, which describes when a given frame is displayed\n",
        "stim_table = data_set.get_stimulus_table('natural_movie_one')\n",
        "\n",
        "# find out when a particular frame range is displayed\n",
        "frame_range = [ 100, 120 ]\n",
        "stim_table = stim_table[(stim_table.frame >= frame_range[0]) & (stim_table.frame <= frame_range[1])]\n",
        "\n",
        "plot_stimulus_table(stim_table, \"frames %d -> %d \" % (frame_range[0], frame_range[1]))\n",
        "\n"
      ],
      "metadata": {
        "id": "M0HSFN19pVZL"
      },
      "execution_count": null,
      "outputs": []
    },
    {
      "cell_type": "code",
      "source": [
        "data_set = boc.get_ophys_experiment_data(505693621)\n",
        "\n",
        "# read in the locally sparse noise stimulus movie.  \n",
        "# the 'mask_offscreen' argument will set off-screen grid locations to LocallySparseNoise.LSN_OFF_SCREEN\n",
        "lsn_movie, offscreen_mask = data_set.get_locally_sparse_noise_stimulus_template('locally_sparse_noise',\n",
        "                                                                                mask_off_screen=True)\n",
        "\n",
        "# show a single frame of the stimulus for reference\n",
        "frame = 200\n",
        "plt.imshow(lsn_movie[frame,:,:], cmap='gray', interpolation='nearest')\n",
        "plt.axis('off')\n",
        "plt.title('frame %d' % frame)\n",
        "plt.show()\n",
        "\n"
      ],
      "metadata": {
        "id": "hHbEDMfGpggM"
      },
      "execution_count": null,
      "outputs": []
    },
    {
      "cell_type": "code",
      "source": [
        "import numpy as np\n",
        "from allensdk.brain_observatory.locally_sparse_noise import LocallySparseNoise\n",
        "\n",
        "# find frames at a given grid location that are 'on'\n",
        "loc = (10,15)\n",
        "on_frames = np.where(lsn_movie[:,loc[0],loc[1]] == LocallySparseNoise.LSN_ON)[0]\n",
        "\n",
        "# pull these trials out of the stimulus table\n",
        "stim_table = data_set.get_stimulus_table('locally_sparse_noise')\n",
        "stim_table = stim_table.loc[on_frames]\n",
        "\n",
        "plot_stimulus_table(stim_table, \"loc (%d,%d) \" % loc)\n",
        "\n"
      ],
      "metadata": {
        "colab": {
          "base_uri": "https://localhost:8080/",
          "height": 374
        },
        "id": "HxX5sEKppr5A",
        "outputId": "a1dd4fac-1f3f-4238-e7e1-028d75fb0e56"
      },
      "execution_count": 1,
      "outputs": [
        {
          "output_type": "error",
          "ename": "ModuleNotFoundError",
          "evalue": "ignored",
          "traceback": [
            "\u001b[0;31m---------------------------------------------------------------------------\u001b[0m",
            "\u001b[0;31mModuleNotFoundError\u001b[0m                       Traceback (most recent call last)",
            "\u001b[0;32m<ipython-input-1-48c124458775>\u001b[0m in \u001b[0;36m<module>\u001b[0;34m()\u001b[0m\n\u001b[1;32m      1\u001b[0m \u001b[0;32mimport\u001b[0m \u001b[0mnumpy\u001b[0m \u001b[0;32mas\u001b[0m \u001b[0mnp\u001b[0m\u001b[0;34m\u001b[0m\u001b[0;34m\u001b[0m\u001b[0m\n\u001b[0;32m----> 2\u001b[0;31m \u001b[0;32mfrom\u001b[0m \u001b[0mallensdk\u001b[0m\u001b[0;34m.\u001b[0m\u001b[0mbrain_observatory\u001b[0m\u001b[0;34m.\u001b[0m\u001b[0mlocally_sparse_noise\u001b[0m \u001b[0;32mimport\u001b[0m \u001b[0mLocallySparseNoise\u001b[0m\u001b[0;34m\u001b[0m\u001b[0;34m\u001b[0m\u001b[0m\n\u001b[0m\u001b[1;32m      3\u001b[0m \u001b[0;34m\u001b[0m\u001b[0m\n\u001b[1;32m      4\u001b[0m \u001b[0;31m# find frames at a given grid location that are 'on'\u001b[0m\u001b[0;34m\u001b[0m\u001b[0;34m\u001b[0m\u001b[0;34m\u001b[0m\u001b[0m\n\u001b[1;32m      5\u001b[0m \u001b[0mloc\u001b[0m \u001b[0;34m=\u001b[0m \u001b[0;34m(\u001b[0m\u001b[0;36m10\u001b[0m\u001b[0;34m,\u001b[0m\u001b[0;36m15\u001b[0m\u001b[0;34m)\u001b[0m\u001b[0;34m\u001b[0m\u001b[0;34m\u001b[0m\u001b[0m\n",
            "\u001b[0;31mModuleNotFoundError\u001b[0m: No module named 'allensdk'",
            "",
            "\u001b[0;31m---------------------------------------------------------------------------\u001b[0;32m\nNOTE: If your import is failing due to a missing package, you can\nmanually install dependencies using either !pip or !apt.\n\nTo view examples of installing some common dependencies, click the\n\"Open Examples\" button below.\n\u001b[0;31m---------------------------------------------------------------------------\u001b[0m\n"
          ],
          "errorDetails": {
            "actions": [
              {
                "action": "open_url",
                "actionText": "Open Examples",
                "url": "/notebooks/snippets/importing_libraries.ipynb"
              }
            ]
          }
        }
      ]
    },
    {
      "cell_type": "markdown",
      "source": [
        ""
      ],
      "metadata": {
        "id": "pV5WfLQ_n807"
      }
    }
  ]
}